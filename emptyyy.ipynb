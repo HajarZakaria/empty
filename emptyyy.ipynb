{
 "cells": [
  {
   "cell_type": "code",
   "execution_count": 7,
   "metadata": {},
   "outputs": [],
   "source": [
    "import tkinter as tk\n",
    "from tkinter import messagebox\n",
    "\n",
    "def submit():\n",
    "    email = entry_email.get()\n",
    "    password = entry_password.get()\n",
    "    # هنا يمكنك إضافة الكود للتحقق من البريد الإلكتروني وكلمة المرور\n",
    "    messagebox.showinfo(\"معلومات\", f\"البريد الإلكتروني: {email}\\nكلمة المرور: {password}\")\n",
    "\n",
    "# إنشاء نافذة التطبيق\n",
    "root = tk.Tk()\n",
    "root.title(\"تسجيل الدخول\")\n",
    "\n",
    "# إنشاء عناصر واجهة المستخدم\n",
    "label_email = tk.Label(root, text=\"البريد الإلكتروني:\")\n",
    "label_email.pack(pady=5)\n",
    "\n",
    "entry_email = tk.Entry(root)\n",
    "entry_email.pack(pady=5)\n",
    "\n",
    "label_password = tk.Label(root, text=\"كلمة المرور:\")\n",
    "label_password.pack(pady=5)\n",
    "\n",
    "entry_password = tk.Entry(root, show=\"*\")\n",
    "entry_password.pack(pady=5)\n",
    "\n",
    "button_submit = tk.Button(root, text=\"تسجيل الدخول\", command=submit)\n",
    "button_submit.pack(pady=20)\n",
    "\n",
    "# بدء حلقة التطبيق\n",
    "root.mainloop()\n"
   ]
  },
  {
   "cell_type": "code",
   "execution_count": null,
   "metadata": {},
   "outputs": [
    {
     "ename": "SyntaxError",
     "evalue": "invalid syntax (2381237985.py, line 1)",
     "output_type": "error",
     "traceback": [
      "\u001b[1;36m  Cell \u001b[1;32mIn[6], line 1\u001b[1;36m\u001b[0m\n\u001b[1;33m    python login.py\u001b[0m\n\u001b[1;37m           ^\u001b[0m\n\u001b[1;31mSyntaxError\u001b[0m\u001b[1;31m:\u001b[0m invalid syntax\n"
     ]
    }
   ],
   "source": [
    "   python login.py\n",
    "   \n"
   ]
  }
 ],
 "metadata": {
  "kernelspec": {
   "display_name": "Python 3",
   "language": "python",
   "name": "python3"
  },
  "language_info": {
   "codemirror_mode": {
    "name": "ipython",
    "version": 3
   },
   "file_extension": ".py",
   "mimetype": "text/x-python",
   "name": "python",
   "nbconvert_exporter": "python",
   "pygments_lexer": "ipython3",
   "version": "3.12.0"
  }
 },
 "nbformat": 4,
 "nbformat_minor": 2
}
